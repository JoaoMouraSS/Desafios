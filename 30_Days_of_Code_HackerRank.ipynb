{
  "nbformat": 4,
  "nbformat_minor": 0,
  "metadata": {
    "colab": {
      "provenance": [],
      "collapsed_sections": [],
      "authorship_tag": "ABX9TyPTCYsZ+V1vjO56tPcus+QJ",
      "include_colab_link": true
    },
    "kernelspec": {
      "name": "python3",
      "display_name": "Python 3"
    },
    "language_info": {
      "name": "python"
    }
  },
  "cells": [
    {
      "cell_type": "markdown",
      "metadata": {
        "id": "view-in-github",
        "colab_type": "text"
      },
      "source": [
        "<a href=\"https://colab.research.google.com/github/JoaoMouraSS/Desafios/blob/main/30_Days_of_Code_HackerRank.ipynb\" target=\"_parent\"><img src=\"https://colab.research.google.com/assets/colab-badge.svg\" alt=\"Open In Colab\"/></a>"
      ]
    },
    {
      "cell_type": "markdown",
      "source": [
        "# Day 0: Hello, world "
      ],
      "metadata": {
        "id": "uDt8U-sGpRlP"
      }
    },
    {
      "cell_type": "code",
      "source": [
        "# Read a full line of input from stdin and save it to our dynamically typed variable, input_string.\n",
        "input_string = input()\n",
        "\n",
        "# Print a string literal saying \"Hello, World.\" to stdout.\n",
        "print('Hello, World.')\n",
        "\n",
        "# TODO: Write a line of code here that prints the contents of input_string to stdout."
      ],
      "metadata": {
        "id": "XHC-5vTlo6TC"
      },
      "execution_count": null,
      "outputs": []
    },
    {
      "cell_type": "markdown",
      "source": [
        "# Day 1: Data Types"
      ],
      "metadata": {
        "id": "JZY_w4H4pYBU"
      }
    },
    {
      "cell_type": "code",
      "source": [
        "\n",
        "# Declare second integer, double, and String variables.\n",
        "\n",
        "# Read and save an integer, double, and String to your variables.\n",
        "read_i = input()\n",
        "read_dd = input()\n",
        "read_ss = input()\n",
        "\n",
        "ii = int(read_i)\n",
        "dd = float(read_dd)\n",
        "ss = str(read_ss)\n",
        "\n",
        "print(i + ii)\n",
        "print(d + dd)\n",
        "print(s + ss)\n",
        "# Print the sum of both integer variables on a new line.\n",
        "\n",
        "# Print the sum of the double variables on a new line.\n",
        "\n",
        "# Concatenate and print the String variables on a new line\n",
        "# The 's' variable above should be printed first."
      ],
      "metadata": {
        "id": "HaQ7MbuBpcVy"
      },
      "execution_count": null,
      "outputs": []
    },
    {
      "cell_type": "markdown",
      "source": [
        "# Day 3: Intro to conditional Statements"
      ],
      "metadata": {
        "id": "kRxJx0zjqIvJ"
      }
    },
    {
      "cell_type": "code",
      "source": [
        "#!/bin/python3\n",
        "\n",
        "import math\n",
        "import os\n",
        "import random\n",
        "import re\n",
        "import sys\n",
        "\n",
        "if __name__ == '__main__':\n",
        "    n = int(input().strip())\n",
        "    if n%2 != 0: \n",
        "        print(\"Weird\")\n",
        "    elif n in range(2,6) and n%2 ==0:\n",
        "        print(\"Not Weird\")\n",
        "    elif n in range(6,21) and n%2 == 0:\n",
        "        print(\"Weird\")\n",
        "    else:\n",
        "        print(\"Not Weird\")\n"
      ],
      "metadata": {
        "id": "Ppu1Z6viqPzJ"
      },
      "execution_count": null,
      "outputs": []
    },
    {
      "cell_type": "markdown",
      "source": [
        "#Day 4: Class vs. Instance"
      ],
      "metadata": {
        "id": "7vXDy1_6qXbj"
      }
    },
    {
      "cell_type": "code",
      "source": [
        "class Person:\n",
        "    def __init__(self,initialAge):\n",
        "        # Add some more code to run some checks on initialAge\n",
        "        i = int(initialAge)\n",
        "        if i < 0:\n",
        "            print(\"Age is not valid, setting age to 0.\")\n",
        "            self.i = 0\n",
        "        else:\n",
        "            self.i = i\n",
        "    def amIOld(self):\n",
        "        # Do some computations in here and print out the correct statement to the console\n",
        "        if self.i < 13:\n",
        "            print(\"You are young.\")\n",
        "        elif self.i >= 13 and self.i < 18:\n",
        "            print(\"You are a teenager.\")\n",
        "        else:\n",
        "            print(\"You are old.\")\n",
        "    def yearPasses(self):\n",
        "        # Increment the age of the person in here\n",
        "        self.i += 1"
      ],
      "metadata": {
        "id": "6Lb8PIuBqjVT"
      },
      "execution_count": null,
      "outputs": []
    },
    {
      "cell_type": "markdown",
      "source": [
        "# Day 5: Loops\n",
        "\n"
      ],
      "metadata": {
        "id": "yA43kslGqkz1"
      }
    },
    {
      "cell_type": "code",
      "source": [
        "#!/bin/python3\n",
        "\n",
        "import math\n",
        "import os\n",
        "import random\n",
        "import re\n",
        "import sys\n",
        "\n",
        "\n",
        "\n",
        "if __name__ == '__main__':\n",
        "    n = int(input().strip())\n",
        "    for i in range(1,11):\n",
        "        y = i * n\n",
        "        print(f\"{n} x {i} = {y}\")"
      ],
      "metadata": {
        "id": "yoM9pFtVqvwd"
      },
      "execution_count": null,
      "outputs": []
    },
    {
      "cell_type": "markdown",
      "source": [
        "# Day 6: Let's Review"
      ],
      "metadata": {
        "id": "QXkI4OXdqyq6"
      }
    },
    {
      "cell_type": "code",
      "source": [
        "n = int(input())\n",
        "temp = []\n",
        "for i in range(0,n):\n",
        "    s = input()\n",
        "    temp.append(s)\n",
        "\n",
        "for i in range(0,n):\n",
        "    for j in range(0,len(temp[i]),2):\n",
        "        print(temp[i][j],end='')\n",
        "    print(end=' ')\n",
        "    for j in range(1,len(temp[i]),2):\n",
        "        print(temp[i][j],end='')\n",
        "    print()"
      ],
      "metadata": {
        "id": "S0g_WarSq-Sr"
      },
      "execution_count": null,
      "outputs": []
    },
    {
      "cell_type": "markdown",
      "source": [
        "# Day 7: Arrays"
      ],
      "metadata": {
        "id": "_pdea7LaRC7F"
      }
    },
    {
      "cell_type": "code",
      "source": [
        "#!/bin/python3\n",
        "\n",
        "import math\n",
        "import os\n",
        "import random\n",
        "import re\n",
        "import sys\n",
        "\n",
        "if __name__ == '__main__':\n",
        "    n = int(input().strip())\n",
        "\n",
        "    arr = list(map(int, input().rstrip().split()))\n",
        "    print(' '.join(map(str, reversed(arr))))\n"
      ],
      "metadata": {
        "id": "lS-KZExsRCJE"
      },
      "execution_count": null,
      "outputs": []
    },
    {
      "cell_type": "markdown",
      "source": [
        "# Day 8: Dictionaries and Maps"
      ],
      "metadata": {
        "id": "poF4bxTKRSDo"
      }
    },
    {
      "cell_type": "code",
      "source": [
        "# Enter your code here. Read input from STDIN. Print output to STDOUT\n",
        "n = int(input())\n",
        "\n",
        "# Adicionando nome e valores\n",
        "contador = 1\n",
        "lista = []\n",
        "while contador <= n:\n",
        "    x = input()\n",
        "    lista.append(x.split())\n",
        "    contador+=1\n",
        "\n",
        "# Dicionario com os nomes e numeros\n",
        "dicio = dict(lista)\n",
        "chaves = dicio.keys()\n",
        "\n",
        "# Pegando os nomes para fazer a pesquisa\n",
        "contador1 = 1\n",
        "procurar = []\n",
        "while contador1 <= n:\n",
        "    x = input()\n",
        "    procurar.append(x)\n",
        "    contador1 += 1\n",
        "\n",
        "# Fazendo a pesquisa\n",
        "for nome in procurar:\n",
        "    if nome in dicio:\n",
        "        print(f\"{nome}={dicio.get(nome)}\")\n",
        "    else:\n",
        "        print(\"Not found\")"
      ],
      "metadata": {
        "id": "_vU9O46RRSaa"
      },
      "execution_count": null,
      "outputs": []
    },
    {
      "cell_type": "markdown",
      "source": [
        "# Day 9: Recursion 3"
      ],
      "metadata": {
        "id": "K2SZXs7SRiJ2"
      }
    },
    {
      "cell_type": "code",
      "source": [
        "#!/bin/python3\n",
        "\n",
        "import math\n",
        "import os\n",
        "import random\n",
        "import re\n",
        "import sys\n",
        "\n",
        "#\n",
        "# Complete the 'factorial' function below.\n",
        "#\n",
        "# The function is expected to return an INTEGER.\n",
        "# The function accepts INTEGER n as parameter.\n",
        "#\n",
        "\n",
        "def factorial(n):\n",
        "    # Write your code here\n",
        "\n",
        "if __name__ == '__main__':\n",
        "    fptr = open(os.environ['OUTPUT_PATH'], 'w')\n",
        "\n",
        "    n = int(input().strip())\n",
        "\n",
        "    result = factorial(n)\n",
        "\n",
        "    fptr.write(str(result) + '\\n')\n",
        "\n",
        "    fptr.close()"
      ],
      "metadata": {
        "id": "GjMPqJEGR1EM"
      },
      "execution_count": null,
      "outputs": []
    },
    {
      "cell_type": "markdown",
      "source": [
        "# Day 10: Binary Numbers"
      ],
      "metadata": {
        "id": "kuYpCgVGR5yF"
      }
    },
    {
      "cell_type": "code",
      "source": [
        "#!/bin/python3\n",
        "\n",
        "import math\n",
        "import os\n",
        "import random\n",
        "import re\n",
        "import sys\n",
        "\n",
        "\n",
        "\n",
        "if __name__ == '__main__':\n",
        "    n = int(input().strip())\n",
        "    \n",
        "    bina = []\n",
        "\n",
        "while n>0:\n",
        "    modulo = n%2\n",
        "    n = int(n/2)\n",
        "    bina.append(modulo)\n",
        "\n",
        "# print(bina)\n",
        "\n",
        "# Adicionando sempre que aparecer um item\n",
        "contador = 0\n",
        "result = 0\n",
        "\n",
        "for i in range(0,len(bina)):\n",
        "  if bina[i] == 0:\n",
        "    contador = 0\n",
        "  else:\n",
        "    contador += 1\n",
        "    result = max(result,contador)\n",
        "\n",
        "print(result)"
      ],
      "metadata": {
        "id": "se5sPtEGSCmg"
      },
      "execution_count": null,
      "outputs": []
    },
    {
      "cell_type": "markdown",
      "source": [
        "# Day 11: 2D Arrays"
      ],
      "metadata": {
        "id": "DiDodRJ9SInN"
      }
    },
    {
      "cell_type": "code",
      "source": [
        "# Um dos mais dificeis desse desafio\n",
        "\n",
        "#!/bin/python3\n",
        "import math\n",
        "import os\n",
        "import random\n",
        "import re\n",
        "import sys\n",
        "\n",
        "\n",
        "\n",
        "if __name__ == '__main__':\n",
        "\n",
        "    arr = []\n",
        "\n",
        "    for _ in range(6):\n",
        "        arr.append(list(map(int, input().rstrip().split())))\n",
        "    \n",
        "    l=[]\n",
        "for i in range(4):\n",
        "    for j in range(4):\n",
        "        s=0\n",
        "        for k in range(3):\n",
        "            for m in range(3):\n",
        "                if k!=1 or m!=0 and m!=2:\n",
        "                    s+=arr[i+k][j+m]\n",
        "        l.append(s)\n",
        "print(max(l))"
      ],
      "metadata": {
        "id": "WaIHnH2qSVYG"
      },
      "execution_count": null,
      "outputs": []
    },
    {
      "cell_type": "markdown",
      "source": [
        "# Day 12: Inheritance"
      ],
      "metadata": {
        "id": "11G6xd3ESjmP"
      }
    },
    {
      "cell_type": "code",
      "source": [
        "\n",
        "\n",
        "class Student(Person):\n",
        "    #   Class Constructor\n",
        "    def __init__(self, firstName, lastName, idNumber, scores):\n",
        "        super().__init__(firstName, lastName, idNumber)\n",
        "        self.firstName = firstName\n",
        "        self.lastName = lastName\n",
        "        self.idNumber = idNumber\n",
        "        \n",
        "    def printPerson(self):\n",
        "        print(\"Name: \" + lastName + \", \" + firstName)\n",
        "        print(\"ID:\", idNum)\n",
        "        \n",
        "    def calculate(self):\n",
        "        x = len(scores)\n",
        "        n = 0\n",
        "        for i in range(x):\n",
        "            n+=scores[i]\n",
        "            \n",
        "        y = int(n)//int(x)\n",
        "            \n",
        "        if 90<= y <= 100:\n",
        "            return 'O'\n",
        "        elif 80<= y < 90:\n",
        "            return 'E'\n",
        "        elif 70<= y < 80:\n",
        "            return 'A'\n",
        "        elif 55<= y < 70:\n",
        "            return 'P'\n",
        "        elif 40<= y < 55:\n",
        "            return 'D'\n",
        "        else:\n",
        "            return 'T'"
      ],
      "metadata": {
        "id": "HH4ZXIVBSnLJ"
      },
      "execution_count": null,
      "outputs": []
    },
    {
      "cell_type": "markdown",
      "source": [
        "# Day 13: Abstract Classes"
      ],
      "metadata": {
        "id": "G-unXvkWS2pE"
      }
    },
    {
      "cell_type": "code",
      "source": [
        "#Write MyBook class\n",
        "class MyBook(Book):\n",
        "    price = 0\n",
        "    \n",
        "    def __init__(self, title, author, price):\n",
        "        super(Book, self).__init__()\n",
        "        self.price = price\n",
        "        \n",
        "    def display(self):\n",
        "        print(f'Title: {title}')\n",
        "        print(f'Author: {author}')\n",
        "        print(f'Price: {price}')"
      ],
      "metadata": {
        "id": "5kbzHKvzS62i"
      },
      "execution_count": null,
      "outputs": []
    },
    {
      "cell_type": "markdown",
      "source": [
        "# Day 14: Scope"
      ],
      "metadata": {
        "id": "bZSdeAbLS_yI"
      }
    },
    {
      "cell_type": "code",
      "source": [
        "    # Add your code here\n",
        "    def computeDifference(self):\n",
        "            \n",
        "        a.sort()\n",
        "        x = max(a)\n",
        "        y = min(a)\n",
        "            \n",
        "        self.maximumDifference = abs(x-y)"
      ],
      "metadata": {
        "id": "UEZw1GL2TG9b"
      },
      "execution_count": null,
      "outputs": []
    },
    {
      "cell_type": "markdown",
      "source": [
        "# Day 15: Linked List"
      ],
      "metadata": {
        "id": "IxO1wtD1TKNw"
      }
    },
    {
      "cell_type": "code",
      "source": [
        "    def insert(self,head,data): \n",
        "    #Complete this method\n",
        "        temp = Node(data)\n",
        "        if head == None:\n",
        "            head = temp\n",
        "        else:\n",
        "            curr = head\n",
        "            while curr.next != None:\n",
        "                curr = curr.next\n",
        "            curr.next = temp\n",
        "        \n",
        "        return head"
      ],
      "metadata": {
        "id": "ueQzM1dzTLCs"
      },
      "execution_count": null,
      "outputs": []
    },
    {
      "cell_type": "markdown",
      "source": [
        "# Day 16: Exceptions - String to Integer"
      ],
      "metadata": {
        "id": "La0FwovgTUEj"
      }
    },
    {
      "cell_type": "code",
      "source": [
        "#!/bin/python3\n",
        "\n",
        "import math\n",
        "import os\n",
        "import random\n",
        "import re\n",
        "import sys\n",
        "\n",
        "S = input()\n",
        "    \n",
        "try:\n",
        "    print(int(S))\n",
        "except ValueError:\n",
        "    print(\"Bad String\")"
      ],
      "metadata": {
        "id": "M1duqxUATYpv"
      },
      "execution_count": null,
      "outputs": []
    },
    {
      "cell_type": "markdown",
      "source": [
        "# Day 17: More Exceptions"
      ],
      "metadata": {
        "id": "3m8aQGB_TdWZ"
      }
    },
    {
      "cell_type": "code",
      "source": [
        "#Write your code here\n",
        "class Calculator:\n",
        "    def power(self,n,p):\n",
        "        if n < 0 or p < 0:\n",
        "            raise ValueError(\"n and p should be non-negative\")\n",
        "        else:\n",
        "            ans = n**p\n",
        "            return ans"
      ],
      "metadata": {
        "id": "v_L-Qz-ITmCT"
      },
      "execution_count": null,
      "outputs": []
    },
    {
      "cell_type": "markdown",
      "source": [
        "# Day 18: Queues and Stacks"
      ],
      "metadata": {
        "id": "PT5WJYTtTpgt"
      }
    },
    {
      "cell_type": "code",
      "source": [
        "class Solution:\n",
        "    # Write your code here\n",
        "    \n",
        "    pilha = []\n",
        "    fila = []\n",
        "    \n",
        "    def pushCharacter(self,p):\n",
        "        self.pilha.append(p)\n",
        "    \n",
        "    def enqueueCharacter(self,f):\n",
        "        self.fila.append(f)\n",
        "    \n",
        "    def popCharacter(self):\n",
        "        return self.pilha.pop()\n",
        "        \n",
        "    def dequeueCharacter(self):\n",
        "        return self.fila.pop(0)"
      ],
      "metadata": {
        "id": "F8InYPdDTtnA"
      },
      "execution_count": null,
      "outputs": []
    },
    {
      "cell_type": "markdown",
      "source": [
        "# Day 19: Interfaces"
      ],
      "metadata": {
        "id": "NIuBIt1xT00Z"
      }
    },
    {
      "cell_type": "code",
      "source": [
        "class Calculator(AdvancedArithmetic):\n",
        "    def divisorSum(self, n):\n",
        "        divisores = []\n",
        "        for i in range(1, n+1):\n",
        "            if n % i == 0:\n",
        "                divisores.append(i)\n",
        "        \n",
        "        return sum(divisores)\n",
        "        \n",
        "        pass"
      ],
      "metadata": {
        "id": "rzHRWqkqT30S"
      },
      "execution_count": null,
      "outputs": []
    },
    {
      "cell_type": "markdown",
      "source": [
        "# Day 20: Sorting"
      ],
      "metadata": {
        "id": "Cw_PmSXUT6oJ"
      }
    },
    {
      "cell_type": "code",
      "source": [
        "#!/bin/python3\n",
        "\n",
        "import math\n",
        "import os\n",
        "import random\n",
        "import re\n",
        "import sys\n",
        "\n",
        "if __name__ == '__main__':\n",
        "    n = int(input().strip())\n",
        "\n",
        "    a = list(map(int, input().rstrip().split()))\n",
        "\n",
        "    # Write your code here\n",
        "    n_swap = 0\n",
        "    new_list = []\n",
        "    \n",
        "    for i in range(n-1):\n",
        "        for j in range(n-1):\n",
        "            if a[j] > a[j+1]:\n",
        "                a[j],a[j+1] = a[j+1],a[j]\n",
        "                n_swap+=1\n",
        "    \n",
        "    print(f'Array is sorted in {n_swap} swaps.')\n",
        "    print(f'First Element: {a[0]}')\n",
        "    print(f'Last Element: {a[-1]}')"
      ],
      "metadata": {
        "id": "MqoLtcsfT_c_"
      },
      "execution_count": null,
      "outputs": []
    },
    {
      "cell_type": "markdown",
      "source": [
        "# Day 21: Generics"
      ],
      "metadata": {
        "id": "Y1-PTPYJUFx9"
      }
    },
    {
      "cell_type": "code",
      "source": [
        "# Generics é um conceito que em python não existe.\n",
        "# Copiei o código de alguem em java"
      ],
      "metadata": {
        "id": "5Z4OyNUkUGFU"
      },
      "execution_count": null,
      "outputs": []
    },
    {
      "cell_type": "markdown",
      "source": [
        "# Day 22: Binary Search Trees"
      ],
      "metadata": {
        "id": "WayW9GpzUeXr"
      }
    },
    {
      "cell_type": "code",
      "source": [
        "    def getHeight(self,root):\n",
        "        #Write your code here\n",
        "        \n",
        "        if root is None:\n",
        "            return -1\n",
        "        \n",
        "        hl = self.getHeight(root.left)\n",
        "        hr = self.getHeight(root.right)\n",
        "            \n",
        "        if hl > hr:\n",
        "            return 1+hl\n",
        "        else:\n",
        "            return 1+hr"
      ],
      "metadata": {
        "id": "gBOdh9ShUpem"
      },
      "execution_count": null,
      "outputs": []
    },
    {
      "cell_type": "markdown",
      "source": [
        "# Day 23: BST Level-Order Traversal"
      ],
      "metadata": {
        "id": "zA6FbeyOUvVm"
      }
    },
    {
      "cell_type": "code",
      "source": [
        "    def levelOrder(self,root):\n",
        "        #Write your code here \n",
        "        \n",
        "        queue = [root]\n",
        "        \n",
        "        result = []\n",
        "        \n",
        "        if root is None:\n",
        "            return 0\n",
        "        \n",
        "        while len(queue) > 0:\n",
        "            \n",
        "            print(str(queue[0].data)+' ',end=\"\")\n",
        "            node = queue.pop(0)\n",
        "            \n",
        "            if node.left is not None:\n",
        "                queue.append(node.left)\n",
        "                \n",
        "            if node.right is not None:\n",
        "                queue.append(node.right)"
      ],
      "metadata": {
        "id": "56FzmQRdU1Az"
      },
      "execution_count": null,
      "outputs": []
    },
    {
      "cell_type": "markdown",
      "source": [
        "# Day 24: More Linked List"
      ],
      "metadata": {
        "id": "vHP5tLoxp2g0"
      }
    },
    {
      "cell_type": "code",
      "source": [
        "\n",
        "# 1) Com dificuldade em entender como manipular arvores binárias. Não sei como extrair valores\n",
        "\n",
        "numeros = (1,\n",
        "2,\n",
        "2,\n",
        "3,\n",
        "3,\n",
        "4)\n",
        "\n",
        "unique = []\n",
        "for i in numeros:\n",
        "  if i not in unique:\n",
        "    unique.append(i)"
      ],
      "metadata": {
        "id": "oESo8dyuTmCD"
      },
      "execution_count": null,
      "outputs": []
    },
    {
      "cell_type": "markdown",
      "source": [
        "# Day 25: Running Time and Complexity"
      ],
      "metadata": {
        "id": "vUmcNUz7p44r"
      }
    },
    {
      "cell_type": "code",
      "source": [
        "\n",
        "# O algoritmo não ficou muito eficiente para resolver o problema\n",
        "\n",
        "n = int(input())\n",
        "valores = []\n",
        "\n",
        "for i in range(n):\n",
        "  valores.append(int(input()))\n",
        "\n",
        "for i in valores:\n",
        "  if i> 1:\n",
        "    for j in range(2, i):\n",
        "      if i%j == 0:\n",
        "        print('não é primário')\n",
        "        break\n",
        "    else:\n",
        "      print('é primário')\n",
        "  else:\n",
        "    print('não é primário ')"
      ],
      "metadata": {
        "id": "6F6fBsuK9l3d"
      },
      "execution_count": null,
      "outputs": []
    },
    {
      "cell_type": "code",
      "source": [
        "# Tive que fazer o range com a raíz do núm. Não entendi o conceito matemático por trás.\n",
        "\n",
        "n = int(input())\n",
        "valores = []\n",
        "\n",
        "for i in range(n):\n",
        "  valores.append(int(input()))\n",
        "\n",
        "for i in valores:\n",
        "  if i> 1:\n",
        "    for j in range(2, int(i**0.5)+1):\n",
        "      if i%j == 0:\n",
        "        print('Not prime')\n",
        "        break\n",
        "    else:\n",
        "      print('Prime')\n",
        "  else:\n",
        "    print('Not prime ')"
      ],
      "metadata": {
        "id": "Q3j0fnPLBOSL"
      },
      "execution_count": null,
      "outputs": []
    },
    {
      "cell_type": "markdown",
      "source": [
        "# Day 26: Running Time and Complexity"
      ],
      "metadata": {
        "id": "YKmzY5QHqAHj"
      }
    },
    {
      "cell_type": "code",
      "source": [
        "valores = []\n",
        "\n",
        "for i in range(2):\n",
        "    valores.append(input())\n",
        "\n",
        "    \n",
        "data_entrega = valores[0].split()\n",
        "data_vencimento = valores[1].split()\n",
        "\n",
        "#dias\n",
        "de = int(data_entrega[0])\n",
        "dv = int(data_vencimento[0])\n",
        "\n",
        "#mes\n",
        "me = int(data_entrega[1])\n",
        "mv = int(data_vencimento[1])\n",
        "\n",
        "#ano\n",
        "ae = int(data_entrega[2])\n",
        "av = int(data_vencimento[2])\n",
        "\n",
        "if ae > av:\n",
        "    print(1000)\n",
        "elif ae<av:\n",
        "  print(0)\n",
        "else:\n",
        "    if me>mv:\n",
        "        print(500*(me-mv))\n",
        "    elif me<mv:\n",
        "      print(0)\n",
        "    else:\n",
        "        if de>dv:\n",
        "            print(15*(de-dv))\n",
        "        else:\n",
        "          print(0)"
      ],
      "metadata": {
        "id": "cyIt8ZNEIGKc"
      },
      "execution_count": null,
      "outputs": []
    },
    {
      "cell_type": "markdown",
      "source": [
        "# Day 28: RegEx, Patterns, and Intro to Databases"
      ],
      "metadata": {
        "id": "WGsNfa4gqD5U"
      }
    },
    {
      "cell_type": "code",
      "source": [
        "#!/bin/python3\n",
        "\n",
        "import math\n",
        "import os\n",
        "import random\n",
        "import re\n",
        "import sys\n",
        "\n",
        "\n",
        "nomes = []\n",
        "\n",
        "if __name__ == '__main__':\n",
        "    N = int(input().strip())\n",
        "    \n",
        "    for i in range(N):\n",
        "        lista = input()\n",
        "        \n",
        "        if re.search('@gmail.com$', lista):\n",
        "            a = lista.split()\n",
        "            nomes.append(a[0])\n",
        "        else:\n",
        "            pass\n",
        "\n",
        "nomes.sort()\n",
        "\n",
        "for i in range(N):\n",
        "  try:\n",
        "    print(nomes[i])\n",
        "  except:\n",
        "    break"
      ],
      "metadata": {
        "id": "uiSgQuI0X3zJ"
      },
      "execution_count": null,
      "outputs": []
    },
    {
      "cell_type": "markdown",
      "source": [
        "# Day 29: Bitwise AND"
      ],
      "metadata": {
        "id": "kNxyZbr_VFP0"
      }
    },
    {
      "cell_type": "code",
      "source": [
        "#!/bin/python3\n",
        "\n",
        "import math\n",
        "import os\n",
        "import random\n",
        "import re\n",
        "import sys\n",
        "\n",
        "#\n",
        "# Complete the 'bitwiseAnd' function below.\n",
        "#\n",
        "# The function is expected to return an INTEGER.\n",
        "# The function accepts following parameters:\n",
        "#  1. INTEGER N\n",
        "#  2. INTEGER K\n",
        "#\n",
        "\n",
        "def bitwiseAnd(N, K):\n",
        "    # Write your code here\n",
        "    maximo = 0\n",
        "    for i in range(1, N+1):\n",
        "        for j in range(i+1,N+1):\n",
        "            value = i&j\n",
        "            if value > maximo and value<K:\n",
        "                maximo = value\n",
        "                if maximo == K-1:\n",
        "                    return maximo\n",
        "    return maximo\n",
        "        \n",
        "\n",
        "if __name__ == '__main__':\n",
        "    fptr = open(os.environ['OUTPUT_PATH'], 'w')\n",
        "\n",
        "    t = int(input().strip())\n",
        "\n",
        "    for t_itr in range(t):\n",
        "        first_multiple_input = input().rstrip().split()\n",
        "\n",
        "        count = int(first_multiple_input[0])\n",
        "\n",
        "        lim = int(first_multiple_input[1])\n",
        "\n",
        "        res = bitwiseAnd(count, lim)\n",
        "\n",
        "        fptr.write(str(res) + '\\n')\n",
        "\n",
        "    fptr.close()"
      ],
      "metadata": {
        "id": "U7bp5fkMVGG7"
      },
      "execution_count": null,
      "outputs": []
    },
    {
      "cell_type": "code",
      "source": [],
      "metadata": {
        "id": "JsfwVX4RVH2q"
      },
      "execution_count": null,
      "outputs": []
    }
  ]
}