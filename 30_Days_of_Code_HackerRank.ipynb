{
  "nbformat": 4,
  "nbformat_minor": 0,
  "metadata": {
    "colab": {
      "provenance": [],
      "collapsed_sections": [],
      "authorship_tag": "ABX9TyNFVDFHWL+8WPYf8K3L8dWD",
      "include_colab_link": true
    },
    "kernelspec": {
      "name": "python3",
      "display_name": "Python 3"
    },
    "language_info": {
      "name": "python"
    }
  },
  "cells": [
    {
      "cell_type": "markdown",
      "metadata": {
        "id": "view-in-github",
        "colab_type": "text"
      },
      "source": [
        "<a href=\"https://colab.research.google.com/github/JoaoMouraSS/Desafios/blob/main/30_Days_of_Code_HackerRank.ipynb\" target=\"_parent\"><img src=\"https://colab.research.google.com/assets/colab-badge.svg\" alt=\"Open In Colab\"/></a>"
      ]
    },
    {
      "cell_type": "markdown",
      "source": [
        "# Day 0: Hello, world "
      ],
      "metadata": {
        "id": "uDt8U-sGpRlP"
      }
    },
    {
      "cell_type": "code",
      "source": [
        "# Read a full line of input from stdin and save it to our dynamically typed variable, input_string.\n",
        "input_string = input()\n",
        "\n",
        "# Print a string literal saying \"Hello, World.\" to stdout.\n",
        "print('Hello, World.')\n",
        "\n",
        "# TODO: Write a line of code here that prints the contents of input_string to stdout."
      ],
      "metadata": {
        "id": "XHC-5vTlo6TC"
      },
      "execution_count": null,
      "outputs": []
    },
    {
      "cell_type": "markdown",
      "source": [
        "# Day 1: Data Types"
      ],
      "metadata": {
        "id": "JZY_w4H4pYBU"
      }
    },
    {
      "cell_type": "code",
      "source": [
        "\n",
        "# Declare second integer, double, and String variables.\n",
        "\n",
        "# Read and save an integer, double, and String to your variables.\n",
        "read_i = input()\n",
        "read_dd = input()\n",
        "read_ss = input()\n",
        "\n",
        "ii = int(read_i)\n",
        "dd = float(read_dd)\n",
        "ss = str(read_ss)\n",
        "\n",
        "print(i + ii)\n",
        "print(d + dd)\n",
        "print(s + ss)\n",
        "# Print the sum of both integer variables on a new line.\n",
        "\n",
        "# Print the sum of the double variables on a new line.\n",
        "\n",
        "# Concatenate and print the String variables on a new line\n",
        "# The 's' variable above should be printed first."
      ],
      "metadata": {
        "id": "HaQ7MbuBpcVy"
      },
      "execution_count": null,
      "outputs": []
    },
    {
      "cell_type": "markdown",
      "source": [
        "# Day 3: Intro to conditional Statements"
      ],
      "metadata": {
        "id": "kRxJx0zjqIvJ"
      }
    },
    {
      "cell_type": "code",
      "source": [
        "#!/bin/python3\n",
        "\n",
        "import math\n",
        "import os\n",
        "import random\n",
        "import re\n",
        "import sys\n",
        "\n",
        "if __name__ == '__main__':\n",
        "    n = int(input().strip())\n",
        "    if n%2 != 0: \n",
        "        print(\"Weird\")\n",
        "    elif n in range(2,6) and n%2 ==0:\n",
        "        print(\"Not Weird\")\n",
        "    elif n in range(6,21) and n%2 == 0:\n",
        "        print(\"Weird\")\n",
        "    else:\n",
        "        print(\"Not Weird\")\n"
      ],
      "metadata": {
        "id": "Ppu1Z6viqPzJ"
      },
      "execution_count": null,
      "outputs": []
    },
    {
      "cell_type": "markdown",
      "source": [
        "#Day 4: Class vs. Instance"
      ],
      "metadata": {
        "id": "7vXDy1_6qXbj"
      }
    },
    {
      "cell_type": "code",
      "source": [
        "class Person:\n",
        "    def __init__(self,initialAge):\n",
        "        # Add some more code to run some checks on initialAge\n",
        "        i = int(initialAge)\n",
        "        if i < 0:\n",
        "            print(\"Age is not valid, setting age to 0.\")\n",
        "            self.i = 0\n",
        "        else:\n",
        "            self.i = i\n",
        "    def amIOld(self):\n",
        "        # Do some computations in here and print out the correct statement to the console\n",
        "        if self.i < 13:\n",
        "            print(\"You are young.\")\n",
        "        elif self.i >= 13 and self.i < 18:\n",
        "            print(\"You are a teenager.\")\n",
        "        else:\n",
        "            print(\"You are old.\")\n",
        "    def yearPasses(self):\n",
        "        # Increment the age of the person in here\n",
        "        self.i += 1"
      ],
      "metadata": {
        "id": "6Lb8PIuBqjVT"
      },
      "execution_count": null,
      "outputs": []
    },
    {
      "cell_type": "markdown",
      "source": [
        "# Day 5: Loops\n",
        "\n"
      ],
      "metadata": {
        "id": "yA43kslGqkz1"
      }
    },
    {
      "cell_type": "code",
      "source": [
        "#!/bin/python3\n",
        "\n",
        "import math\n",
        "import os\n",
        "import random\n",
        "import re\n",
        "import sys\n",
        "\n",
        "\n",
        "\n",
        "if __name__ == '__main__':\n",
        "    n = int(input().strip())\n",
        "    for i in range(1,11):\n",
        "        y = i * n\n",
        "        print(f\"{n} x {i} = {y}\")"
      ],
      "metadata": {
        "id": "yoM9pFtVqvwd"
      },
      "execution_count": null,
      "outputs": []
    },
    {
      "cell_type": "markdown",
      "source": [
        "# Day 6: Let's Review"
      ],
      "metadata": {
        "id": "QXkI4OXdqyq6"
      }
    },
    {
      "cell_type": "code",
      "source": [
        "n = int(input())\n",
        "temp = []\n",
        "for i in range(0,n):\n",
        "    s = input()\n",
        "    temp.append(s)\n",
        "\n",
        "for i in range(0,n):\n",
        "    for j in range(0,len(temp[i]),2):\n",
        "        print(temp[i][j],end='')\n",
        "    print(end=' ')\n",
        "    for j in range(1,len(temp[i]),2):\n",
        "        print(temp[i][j],end='')\n",
        "    print()"
      ],
      "metadata": {
        "id": "S0g_WarSq-Sr"
      },
      "execution_count": null,
      "outputs": []
    },
    {
      "cell_type": "markdown",
      "source": [
        "# Day 24: More Linked List"
      ],
      "metadata": {
        "id": "vHP5tLoxp2g0"
      }
    },
    {
      "cell_type": "code",
      "source": [
        "\n",
        "# 1) Com dificuldade em entender como manipular arvores binárias. Não sei como extrair valores\n",
        "\n",
        "numeros = (1,\n",
        "2,\n",
        "2,\n",
        "3,\n",
        "3,\n",
        "4)\n",
        "\n",
        "unique = []\n",
        "for i in numeros:\n",
        "  if i not in unique:\n",
        "    unique.append(i)"
      ],
      "metadata": {
        "id": "oESo8dyuTmCD"
      },
      "execution_count": null,
      "outputs": []
    },
    {
      "cell_type": "markdown",
      "source": [
        "# Day 25: Running Time and Complexity"
      ],
      "metadata": {
        "id": "vUmcNUz7p44r"
      }
    },
    {
      "cell_type": "code",
      "source": [
        "\n",
        "# O algoritmo não ficou muito eficiente para resolver o problema\n",
        "\n",
        "n = int(input())\n",
        "valores = []\n",
        "\n",
        "for i in range(n):\n",
        "  valores.append(int(input()))\n",
        "\n",
        "for i in valores:\n",
        "  if i> 1:\n",
        "    for j in range(2, i):\n",
        "      if i%j == 0:\n",
        "        print('não é primário')\n",
        "        break\n",
        "    else:\n",
        "      print('é primário')\n",
        "  else:\n",
        "    print('não é primário ')"
      ],
      "metadata": {
        "id": "6F6fBsuK9l3d"
      },
      "execution_count": null,
      "outputs": []
    },
    {
      "cell_type": "code",
      "source": [
        "# Tive que fazer o range com a raíz do núm. Não entendi o conceito matemático por trás.\n",
        "\n",
        "n = int(input())\n",
        "valores = []\n",
        "\n",
        "for i in range(n):\n",
        "  valores.append(int(input()))\n",
        "\n",
        "for i in valores:\n",
        "  if i> 1:\n",
        "    for j in range(2, int(i**0.5)+1):\n",
        "      if i%j == 0:\n",
        "        print('Not prime')\n",
        "        break\n",
        "    else:\n",
        "      print('Prime')\n",
        "  else:\n",
        "    print('Not prime ')"
      ],
      "metadata": {
        "id": "Q3j0fnPLBOSL"
      },
      "execution_count": null,
      "outputs": []
    },
    {
      "cell_type": "markdown",
      "source": [
        "# Day 26: Running Time and Complexity"
      ],
      "metadata": {
        "id": "YKmzY5QHqAHj"
      }
    },
    {
      "cell_type": "code",
      "source": [
        "valores = []\n",
        "\n",
        "for i in range(2):\n",
        "    valores.append(input())\n",
        "\n",
        "    \n",
        "data_entrega = valores[0].split()\n",
        "data_vencimento = valores[1].split()\n",
        "\n",
        "#dias\n",
        "de = int(data_entrega[0])\n",
        "dv = int(data_vencimento[0])\n",
        "\n",
        "#mes\n",
        "me = int(data_entrega[1])\n",
        "mv = int(data_vencimento[1])\n",
        "\n",
        "#ano\n",
        "ae = int(data_entrega[2])\n",
        "av = int(data_vencimento[2])\n",
        "\n",
        "if ae > av:\n",
        "    print(1000)\n",
        "elif ae<av:\n",
        "  print(0)\n",
        "else:\n",
        "    if me>mv:\n",
        "        print(500*(me-mv))\n",
        "    elif me<mv:\n",
        "      print(0)\n",
        "    else:\n",
        "        if de>dv:\n",
        "            print(15*(de-dv))\n",
        "        else:\n",
        "          print(0)"
      ],
      "metadata": {
        "id": "cyIt8ZNEIGKc"
      },
      "execution_count": null,
      "outputs": []
    },
    {
      "cell_type": "markdown",
      "source": [
        "# Day 28: RegEx, Patterns, and Intro to Databases"
      ],
      "metadata": {
        "id": "WGsNfa4gqD5U"
      }
    },
    {
      "cell_type": "code",
      "source": [
        "#!/bin/python3\n",
        "\n",
        "import math\n",
        "import os\n",
        "import random\n",
        "import re\n",
        "import sys\n",
        "\n",
        "\n",
        "nomes = []\n",
        "\n",
        "if __name__ == '__main__':\n",
        "    N = int(input().strip())\n",
        "    \n",
        "    for i in range(N):\n",
        "        lista = input()\n",
        "        \n",
        "        if re.search('@gmail.com$', lista):\n",
        "            a = lista.split()\n",
        "            nomes.append(a[0])\n",
        "        else:\n",
        "            pass\n",
        "\n",
        "nomes.sort()\n",
        "\n",
        "for i in range(N):\n",
        "  try:\n",
        "    print(nomes[i])\n",
        "  except:\n",
        "    break"
      ],
      "metadata": {
        "id": "uiSgQuI0X3zJ"
      },
      "execution_count": null,
      "outputs": []
    }
  ]
}