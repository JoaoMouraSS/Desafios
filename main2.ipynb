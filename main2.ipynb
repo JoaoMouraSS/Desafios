{
  "cells": [
    {
      "cell_type": "markdown",
      "metadata": {
        "id": "view-in-github",
        "colab_type": "text"
      },
      "source": [
        "<a href=\"https://colab.research.google.com/github/JoaoMouraSS/Desafios/blob/main/main2.ipynb\" target=\"_parent\"><img src=\"https://colab.research.google.com/assets/colab-badge.svg\" alt=\"Open In Colab\"/></a>"
      ]
    },
    {
      "cell_type": "code",
      "source": [
        "from google.colab import drive\n",
        "drive.mount('/content/drive')"
      ],
      "metadata": {
        "id": "KEq0Yu5pDj96"
      },
      "execution_count": null,
      "outputs": []
    },
    {
      "cell_type": "code",
      "execution_count": null,
      "metadata": {
        "id": "6ySz3P9oDcla"
      },
      "outputs": [],
      "source": [
        "import numpy as np\n",
        "import pandas as pd\n",
        "\n",
        "df1 = pd.read_csv('/content/drive/MyDrive/Competição QConcurso/Dataset_model.csv')"
      ]
    },
    {
      "cell_type": "code",
      "execution_count": null,
      "metadata": {
        "id": "nX31HvV8Dcle"
      },
      "outputs": [],
      "source": [
        "v_de_interesse = df1[['region','gp:college type','gp:degree course','gp:previous experience','gp:school type','commented_by_professor','difficulty',\n",
        "'examining_board_id','institute_id','knowledge_area_id','modality_id','nullified','outdated','scholarity_id']]\n",
        "\n",
        "meta = df1['acertou']"
      ]
    },
    {
      "cell_type": "code",
      "execution_count": null,
      "metadata": {
        "id": "xVTgRL77Dclg"
      },
      "outputs": [],
      "source": [
        "for i in v_de_interesse:\n",
        "    if v_de_interesse[i].dtypes == 'object':\n",
        "        v_de_interesse[i].fillna('nenhum', inplace=True)        \n",
        "    elif v_de_interesse[i].dtypes == 'float64':\n",
        "        v_de_interesse[i].fillna(0,inplace = True)\n",
        "        v_de_interesse[i].astype(int)\n",
        "    else:\n",
        "        pass"
      ]
    },
    {
      "cell_type": "code",
      "execution_count": null,
      "metadata": {
        "id": "ZlMYGLmuDclh"
      },
      "outputs": [],
      "source": [
        "# tranformando variáveis float64 em int64\n",
        "for i in v_de_interesse:\n",
        "    if v_de_interesse[i].dtypes == 'float64':\n",
        "        v_de_interesse[i] = np.array(v_de_interesse[i]).astype(int)"
      ]
    },
    {
      "cell_type": "code",
      "execution_count": null,
      "metadata": {
        "id": "F7m7qMnsDcli"
      },
      "outputs": [],
      "source": [
        "# transformando variável categorica em int\n",
        "from sklearn.preprocessing import LabelEncoder\n",
        "encoder = LabelEncoder()\n",
        "for i in v_de_interesse:\n",
        "    if v_de_interesse[i].dtypes == 'object':\n",
        "        v_de_interesse[i] = encoder.fit_transform(v_de_interesse[i])\n",
        "    else:\n",
        "        pass\n",
        "\n",
        "# normalizando as variáveis\n",
        "from sklearn.preprocessing import Normalizer\n",
        "norma = Normalizer()\n",
        "values = Normalizer().fit_transform(v_de_interesse.values)"
      ]
    },
    {
      "cell_type": "code",
      "execution_count": null,
      "metadata": {
        "id": "ouiGDQHSDclk"
      },
      "outputs": [],
      "source": [
        "# Separar os dados para fazer o primeiro treino\n",
        "from sklearn.model_selection import train_test_split\n",
        "treino_x,teste_x,treino_y,teste_y = train_test_split(values,meta,random_state=1,test_size=0.3,stratify=meta)"
      ]
    },
    {
      "cell_type": "code",
      "execution_count": null,
      "metadata": {
        "id": "_7z_ifQRDclk"
      },
      "outputs": [],
      "source": [
        "# Construindo a base line\n",
        "from sklearn.dummy import DummyClassifier\n",
        "from sklearn.metrics import f1_score\n",
        "\n",
        "base_line = DummyClassifier().fit(treino_x,treino_y)\n",
        "pred_baseline = base_line.predict(teste_x)\n",
        "\n",
        "f1_score(y_pred=pred_baseline, y_true=teste_y)"
      ]
    },
    {
      "cell_type": "code",
      "execution_count": null,
      "metadata": {
        "id": "Uevp5ERJDclm"
      },
      "outputs": [],
      "source": [
        "# Criando um modelo\n",
        "import xgboost as xgb\n",
        "model_xgb = xgb.XGBClassifier()\n",
        "modelo_xgb = model_xgb.fit(treino_x,treino_y)\n",
        "pred_xgb = modelo_xgb.predict(teste_x)\n",
        "\n",
        "f1_score(y_pred=pred_xgb, y_true=teste_y)"
      ]
    },
    {
      "cell_type": "code",
      "source": [
        "df_submit = pd.read_excel('/content/Submit.xlsx')"
      ],
      "metadata": {
        "id": "ESxikcsLIUvq"
      },
      "execution_count": 21,
      "outputs": []
    },
    {
      "cell_type": "code",
      "source": [
        "v_de_interesse = df_submit[['region','gp:college type','gp:degree course','gp:previous experience','gp:school type','commented_by_professor','difficulty',\n",
        "'examining_board_id','institute_id','knowledge_area_id','modality_id','nullified','outdated','scholarity_id']]\n",
        "\n",
        "for i in v_de_interesse:\n",
        "    if v_de_interesse[i].dtypes == 'object':\n",
        "        v_de_interesse[i].fillna('nenhum', inplace=True)        \n",
        "    elif v_de_interesse[i].dtypes == 'float64':\n",
        "        v_de_interesse[i].fillna(0,inplace = True)\n",
        "        v_de_interesse[i].astype(int)\n",
        "    else:\n",
        "        pass\n",
        "\n",
        "# tranformando variáveis float64 em int64\n",
        "for i in v_de_interesse:\n",
        "    if v_de_interesse[i].dtypes == 'float64':\n",
        "        v_de_interesse[i] = np.array(v_de_interesse[i]).astype(int)\n",
        "\n",
        "# transformando variável categorica em int\n",
        "encoder = LabelEncoder()\n",
        "for i in v_de_interesse:\n",
        "    if v_de_interesse[i].dtypes == 'object':\n",
        "        v_de_interesse[i] = encoder.fit_transform(v_de_interesse[i])\n",
        "    else:\n",
        "        pass\n",
        "\n",
        "# normalizando as variáveis\n",
        "norma = Normalizer()\n",
        "values = Normalizer().fit_transform(v_de_interesse.values)"
      ],
      "metadata": {
        "id": "La-Z_n7QKPbM"
      },
      "execution_count": null,
      "outputs": []
    },
    {
      "cell_type": "code",
      "source": [
        "submit = modelo_xgb.predict(values)"
      ],
      "metadata": {
        "id": "UgCidAg7IEsb"
      },
      "execution_count": 24,
      "outputs": []
    },
    {
      "cell_type": "code",
      "source": [
        "df_result = pd.DataFrame()\n",
        "\n",
        "df_result['novo_user_id'] = df_submit['novo_user_id'].astype(int)\n",
        "df_result['resultado'] = submit"
      ],
      "metadata": {
        "id": "vzkX_G35MK3z"
      },
      "execution_count": 32,
      "outputs": []
    },
    {
      "cell_type": "code",
      "source": [
        "df_result.head()"
      ],
      "metadata": {
        "colab": {
          "base_uri": "https://localhost:8080/",
          "height": 206
        },
        "id": "Mia3A6yOMqD-",
        "outputId": "6e1e8f42-2adf-4088-b6c9-687dde246744"
      },
      "execution_count": 33,
      "outputs": [
        {
          "output_type": "execute_result",
          "data": {
            "text/plain": [
              "   novo_user_id  resultado\n",
              "0             1          1\n",
              "1             2          1\n",
              "2             3          0\n",
              "3             4          1\n",
              "4             5          0"
            ],
            "text/html": [
              "\n",
              "  <div id=\"df-b524a99f-8786-4656-b31e-55f329563df5\">\n",
              "    <div class=\"colab-df-container\">\n",
              "      <div>\n",
              "<style scoped>\n",
              "    .dataframe tbody tr th:only-of-type {\n",
              "        vertical-align: middle;\n",
              "    }\n",
              "\n",
              "    .dataframe tbody tr th {\n",
              "        vertical-align: top;\n",
              "    }\n",
              "\n",
              "    .dataframe thead th {\n",
              "        text-align: right;\n",
              "    }\n",
              "</style>\n",
              "<table border=\"1\" class=\"dataframe\">\n",
              "  <thead>\n",
              "    <tr style=\"text-align: right;\">\n",
              "      <th></th>\n",
              "      <th>novo_user_id</th>\n",
              "      <th>resultado</th>\n",
              "    </tr>\n",
              "  </thead>\n",
              "  <tbody>\n",
              "    <tr>\n",
              "      <th>0</th>\n",
              "      <td>1</td>\n",
              "      <td>1</td>\n",
              "    </tr>\n",
              "    <tr>\n",
              "      <th>1</th>\n",
              "      <td>2</td>\n",
              "      <td>1</td>\n",
              "    </tr>\n",
              "    <tr>\n",
              "      <th>2</th>\n",
              "      <td>3</td>\n",
              "      <td>0</td>\n",
              "    </tr>\n",
              "    <tr>\n",
              "      <th>3</th>\n",
              "      <td>4</td>\n",
              "      <td>1</td>\n",
              "    </tr>\n",
              "    <tr>\n",
              "      <th>4</th>\n",
              "      <td>5</td>\n",
              "      <td>0</td>\n",
              "    </tr>\n",
              "  </tbody>\n",
              "</table>\n",
              "</div>\n",
              "      <button class=\"colab-df-convert\" onclick=\"convertToInteractive('df-b524a99f-8786-4656-b31e-55f329563df5')\"\n",
              "              title=\"Convert this dataframe to an interactive table.\"\n",
              "              style=\"display:none;\">\n",
              "        \n",
              "  <svg xmlns=\"http://www.w3.org/2000/svg\" height=\"24px\"viewBox=\"0 0 24 24\"\n",
              "       width=\"24px\">\n",
              "    <path d=\"M0 0h24v24H0V0z\" fill=\"none\"/>\n",
              "    <path d=\"M18.56 5.44l.94 2.06.94-2.06 2.06-.94-2.06-.94-.94-2.06-.94 2.06-2.06.94zm-11 1L8.5 8.5l.94-2.06 2.06-.94-2.06-.94L8.5 2.5l-.94 2.06-2.06.94zm10 10l.94 2.06.94-2.06 2.06-.94-2.06-.94-.94-2.06-.94 2.06-2.06.94z\"/><path d=\"M17.41 7.96l-1.37-1.37c-.4-.4-.92-.59-1.43-.59-.52 0-1.04.2-1.43.59L10.3 9.45l-7.72 7.72c-.78.78-.78 2.05 0 2.83L4 21.41c.39.39.9.59 1.41.59.51 0 1.02-.2 1.41-.59l7.78-7.78 2.81-2.81c.8-.78.8-2.07 0-2.86zM5.41 20L4 18.59l7.72-7.72 1.47 1.35L5.41 20z\"/>\n",
              "  </svg>\n",
              "      </button>\n",
              "      \n",
              "  <style>\n",
              "    .colab-df-container {\n",
              "      display:flex;\n",
              "      flex-wrap:wrap;\n",
              "      gap: 12px;\n",
              "    }\n",
              "\n",
              "    .colab-df-convert {\n",
              "      background-color: #E8F0FE;\n",
              "      border: none;\n",
              "      border-radius: 50%;\n",
              "      cursor: pointer;\n",
              "      display: none;\n",
              "      fill: #1967D2;\n",
              "      height: 32px;\n",
              "      padding: 0 0 0 0;\n",
              "      width: 32px;\n",
              "    }\n",
              "\n",
              "    .colab-df-convert:hover {\n",
              "      background-color: #E2EBFA;\n",
              "      box-shadow: 0px 1px 2px rgba(60, 64, 67, 0.3), 0px 1px 3px 1px rgba(60, 64, 67, 0.15);\n",
              "      fill: #174EA6;\n",
              "    }\n",
              "\n",
              "    [theme=dark] .colab-df-convert {\n",
              "      background-color: #3B4455;\n",
              "      fill: #D2E3FC;\n",
              "    }\n",
              "\n",
              "    [theme=dark] .colab-df-convert:hover {\n",
              "      background-color: #434B5C;\n",
              "      box-shadow: 0px 1px 3px 1px rgba(0, 0, 0, 0.15);\n",
              "      filter: drop-shadow(0px 1px 2px rgba(0, 0, 0, 0.3));\n",
              "      fill: #FFFFFF;\n",
              "    }\n",
              "  </style>\n",
              "\n",
              "      <script>\n",
              "        const buttonEl =\n",
              "          document.querySelector('#df-b524a99f-8786-4656-b31e-55f329563df5 button.colab-df-convert');\n",
              "        buttonEl.style.display =\n",
              "          google.colab.kernel.accessAllowed ? 'block' : 'none';\n",
              "\n",
              "        async function convertToInteractive(key) {\n",
              "          const element = document.querySelector('#df-b524a99f-8786-4656-b31e-55f329563df5');\n",
              "          const dataTable =\n",
              "            await google.colab.kernel.invokeFunction('convertToInteractive',\n",
              "                                                     [key], {});\n",
              "          if (!dataTable) return;\n",
              "\n",
              "          const docLinkHtml = 'Like what you see? Visit the ' +\n",
              "            '<a target=\"_blank\" href=https://colab.research.google.com/notebooks/data_table.ipynb>data table notebook</a>'\n",
              "            + ' to learn more about interactive tables.';\n",
              "          element.innerHTML = '';\n",
              "          dataTable['output_type'] = 'display_data';\n",
              "          await google.colab.output.renderOutput(dataTable, element);\n",
              "          const docLink = document.createElement('div');\n",
              "          docLink.innerHTML = docLinkHtml;\n",
              "          element.appendChild(docLink);\n",
              "        }\n",
              "      </script>\n",
              "    </div>\n",
              "  </div>\n",
              "  "
            ]
          },
          "metadata": {},
          "execution_count": 33
        }
      ]
    },
    {
      "cell_type": "code",
      "source": [
        "df_result.to_csv('submit.csv',header=True)"
      ],
      "metadata": {
        "id": "sH5SxmksLdv5"
      },
      "execution_count": 34,
      "outputs": []
    },
    {
      "cell_type": "code",
      "source": [],
      "metadata": {
        "id": "M3suRYPULhQc"
      },
      "execution_count": null,
      "outputs": []
    }
  ],
  "metadata": {
    "kernelspec": {
      "display_name": "Python 3.9.12 ('base')",
      "language": "python",
      "name": "python3"
    },
    "language_info": {
      "codemirror_mode": {
        "name": "ipython",
        "version": 3
      },
      "file_extension": ".py",
      "mimetype": "text/x-python",
      "name": "python",
      "nbconvert_exporter": "python",
      "pygments_lexer": "ipython3",
      "version": "3.9.12"
    },
    "orig_nbformat": 4,
    "vscode": {
      "interpreter": {
        "hash": "d3f59539e1da42429ed53d87a4e73550a1eebf9f1ee8157d19eb35d3f0ca8cb8"
      }
    },
    "colab": {
      "provenance": [],
      "include_colab_link": true
    }
  },
  "nbformat": 4,
  "nbformat_minor": 0
}